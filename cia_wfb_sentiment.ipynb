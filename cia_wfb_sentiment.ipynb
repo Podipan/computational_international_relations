{
 "cells": [
  {
   "cell_type": "markdown",
   "metadata": {},
   "source": [
    "# Sentiment and statistical analysis of the CIA World Factbook\n",
    "## Does the CIA WFB portray countries differently according to their relations with the US? \n",
    "\n",
    "I use different sentiment classification methods to produce the sentiment per country and then combine YouGov survey data (as labels) in order to statistically test the question. The paper can be found https://www.researchgate.net/publication/344516703_Sentiment_Analysis_of_the_CIA_World_Factbook and the CIA World Factbook used in https://github.com/Podipan/cia_world_factbook. The paper-version was based on the 2018 edition of the CIA WFB. The implementation below makes use of the 2019 CIA WFB, hence slight variations of outcomes compared to the original paper."
   ]
  },
  {
   "cell_type": "code",
   "execution_count": 1,
   "metadata": {},
   "outputs": [],
   "source": [
    "import re\n",
    "import nltk\n",
    "from nltk.stem import WordNetLemmatizer\n",
    "import pandas as pd\n",
    "import textblob\n",
    "import matplotlib.pyplot as plt\n",
    "import scipy"
   ]
  },
  {
   "cell_type": "code",
   "execution_count": 2,
   "metadata": {},
   "outputs": [],
   "source": [
    "# Data-set creation\n",
    "data = pd.read_pickle(\"v5_CIA_World_Factbook_missing_imputed.pkl\") \n",
    "for c in data.columns:\n",
    "    if \"txt \" not in c:\n",
    "        data.drop(c, axis=\"columns\", inplace=True)\n",
    "data.fillna(\" \", inplace=True)"
   ]
  },
  {
   "cell_type": "code",
   "execution_count": 3,
   "metadata": {},
   "outputs": [],
   "source": [
    "# Stop words approached \"manually\" for better control and interpretability. Consider from nltk.corpus import stopwords\n",
    "months = ['january', 'february', 'march', 'april', 'may', 'june', 'july', 'august', 'september', 'october',\n",
    "      'november', 'december']\n",
    "extra_words = [\"th\", \"per\", \"total\", \"na\", \"nan\", \"none\", \"gdp\", \"sq\", \"bbl\", \"day\", \"`\", \"u\", \"from\", '``',\"''\"]\n",
    "stop_words = ['i', \"to\", 'me', 'my', 'myself', 'we', 'our', 'ours', 'ourselves', 'you', \"you're\", \"you've\",\n",
    "              \"you'll\", \"you'd\", 'your', 'yours', 'yourself', 'yourselves', 'he', 'him', 'his', 'himself', 'she',\n",
    "              \"she's\", 'her', 'hers', 'herself', 'it', \"it's\", 'its', 'itself', 'they', 'them', 'their', 'theirs',\n",
    "              'themselves', 'what', 'which', 'who', 'whom', 'this', 'that', \"that'll\", 'these', 'those', 'am', 'is',\n",
    "              'are', 'was', 'were', 'be', 'been', 'being', 'have', 'has', 'had', 'having', 'do', 'does', 'did',\n",
    "              'doing', 'a', 'an', 'the', 'and', 'but', 'if', 'or', 'because', 'as', 'until', 'while', 'of', 'at',\n",
    "              'by', 'for', 'with', 'about', 'against', 'between', 'into', 'through', 'during', 'before', 'after',\n",
    "              'in', 'on', 'again', 'then', 'once', 'here', 'there', 'when', 'where', 'why', 'how', 'both', 'each',\n",
    "              'other', 'some', 'such', 'so', 'than', 'too', 'very', 's', 't', 'can', 'will', 'just', 'don', \"don't\",\n",
    "              \"should've\", 'now', 'd', 'll', 'm', 'o', 're', 've', 'y', 'ain', 'aren', \"aren't\", 'couldn',\n",
    "              \"couldn't\", 'didn', \"didn't\", 'doesn', \"doesn't\", 'hadn', \"hadn't\", 'hasn', \"hasn't\", 'haven',\n",
    "              \"haven't\", 'isn', \"isn't\", 'ma', 'mightn', \"mightn't\", 'mustn', \"mustn't\", 'needn', \"needn't\", 'shan',\n",
    "              \"shan't\", 'shouldn', \"shouldn't\", 'wasn', \"wasn't\", 'weren', \"weren't\", 'won', \"won't\", 'wouldn',\n",
    "              \"wouldn't\"]\n",
    "stop_words.extend(months)\n",
    "stop_words.extend(extra_words)"
   ]
  },
  {
   "cell_type": "code",
   "execution_count": 4,
   "metadata": {},
   "outputs": [],
   "source": [
    "# lambdas used for training purposes, consider applymap()\n",
    "lemmatizer = WordNetLemmatizer()\n",
    "great_britain = lambda x: x.replace(\"great britain\", \"britain\")\n",
    "composite_words = lambda x: x.replace(\"-\", \" \")\n",
    "removals = lambda x: re.sub(\"[\\[\\]\\`()$%=:;,.*\\d+]\", \"\", x)\n",
    "tokenizer = lambda x: nltk.word_tokenize(x)\n",
    "stop_word_removal = lambda x:[w for w in x if not w in stop_words]\n",
    "lemmatization = lambda x: [lemmatizer.lemmatize(word) for word in x]\n",
    "\n",
    "for c in data.columns:\n",
    "    data[c] = data[c].apply(great_britain).apply(composite_words).apply(removals).apply(tokenizer).apply(stop_word_removal).apply(lemmatization)"
   ]
  },
  {
   "cell_type": "code",
   "execution_count": 5,
   "metadata": {},
   "outputs": [],
   "source": [
    "data.to_excel(\"Preprocessed.xlsx\")\n",
    "data.to_pickle(\"Preprocessed.pkl\")"
   ]
  },
  {
   "cell_type": "code",
   "execution_count": 6,
   "metadata": {},
   "outputs": [],
   "source": [
    "corpus = []\n",
    "for c in data.columns.values:\n",
    "    for i in data.index.values:\n",
    "        if data.loc[i,c] != 0:\n",
    "            corpus.extend(data.loc[i,c])"
   ]
  },
  {
   "cell_type": "code",
   "execution_count": 7,
   "metadata": {},
   "outputs": [],
   "source": [
    "# Lexicon-Based (& Pattern)\n",
    "def Text_blob():\n",
    "    data = pd.read_pickle(\"Preprocessed.pkl\")\n",
    "    sentiments = []\n",
    "    sentences = []\n",
    "\n",
    "    for c in data.columns.values:\n",
    "        for i in data.index.values:\n",
    "            if len(data.loc[i, c]) > 0:\n",
    "                try:\n",
    "                    sentence = data.loc[i, c]\n",
    "                    sentence = \" \".join(sentence)\n",
    "                    sentence = textblob.TextBlob(sentence)\n",
    "                    sentiment = sentence.sentiment.polarity\n",
    "                    sentiments.append(sentiment)\n",
    "                    sentences.append(sentence)\n",
    "                    data.loc[i, c] = sentiment\n",
    "                except Exception as e:\n",
    "                    print(\"ERROR\", e)\n",
    "    sentiments_df = pd.DataFrame({\"Text\":sentences, \"Sentiment\":sentiments})\n",
    "    sentiments_df.sort_values(by=[\"Sentiment\"], ascending=False, inplace=True)\n",
    "    sentiments_df.to_excel(\"TextBlob Ranks.xlsx\")\n",
    "    data.to_excel(\"TextBlob Overall.xlsx\")\n",
    "    \n",
    "    \n",
    "def NLTK_Lex():\n",
    "    import nltk\n",
    "    from nltk.sentiment.vader import SentimentIntensityAnalyzer\n",
    "    nltk.download('vader_lexicon')\n",
    "    data = pd.read_pickle(\"Preprocessed.pkl\")\n",
    "    sentiments = []\n",
    "    sentences = []\n",
    "\n",
    "    for c in data.columns.values:\n",
    "        for i in data.index.values:\n",
    "            if len(data.loc[i, c]) > 0:\n",
    "\n",
    "                sentence = data.loc[i, c]\n",
    "                sentence = \" \".join(sentence)\n",
    "                sentiment = SentimentIntensityAnalyzer().polarity_scores(sentence)[\"compound\"]\n",
    "                data.loc[i, c] = sentiment\n",
    "                sentiments.append(sentiment)\n",
    "                sentences.append(sentence)\n",
    "\n",
    "\n",
    "\n",
    "    sentiments_df = pd.DataFrame({\"Text\":sentences, \"Sentiment\":sentiments})\n",
    "    sentiments_df.sort_values(by=[\"Sentiment\"], ascending=False, inplace=True)\n",
    "    sentiments_df.to_excel(\"NLTK Ranks.xlsx\")\n",
    "    data.to_excel(\"NLTK Overall.xlsx\")"
   ]
  },
  {
   "cell_type": "code",
   "execution_count": 8,
   "metadata": {},
   "outputs": [],
   "source": [
    "# Deep Learning (LSTM) - Word Embeddings\n",
    "def FLAIR():\n",
    "    import flair\n",
    "    from flair.data import Sentence\n",
    "    from flair.models import TextClassifier\n",
    "\n",
    "    flair_sentiment = TextClassifier.load('en-sentiment')\n",
    "    data = pd.read_pickle(\"Preprocessed.pkl\")\n",
    "    sentiments = []\n",
    "    sentences = []\n",
    "\n",
    "    for c in data.columns.values:\n",
    "        for i in data.index.values:\n",
    "            if len(data.loc[i, c]) > 0:\n",
    "                sentence = data.loc[i, c]\n",
    "                sentence = \" \".join(sentence)\n",
    "                sent = Sentence(sentence)\n",
    "                flair_sentiment.predict(sent)\n",
    "                sentiment = sent.labels\n",
    "\n",
    "                data.loc[i, c] = sentiment\n",
    "                sentiments.append(sentiment)\n",
    "                sentences.append(sentence)\n",
    "\n",
    "    sentiments_df = pd.DataFrame({\"Text\": sentences, \"Sentiment\": sentiments})\n",
    "    sentiments_df.to_excel(\"Flair Ranks.xlsx\")\n",
    "    data.to_excel(\"Flair Overall.xlsx\")"
   ]
  },
  {
   "cell_type": "code",
   "execution_count": 9,
   "metadata": {},
   "outputs": [
    {
     "name": "stderr",
     "output_type": "stream",
     "text": [
      "[nltk_data] Downloading package vader_lexicon to\n",
      "[nltk_data]     C:\\Users\\Lenovo\\AppData\\Roaming\\nltk_data...\n",
      "[nltk_data]   Package vader_lexicon is already up-to-date!\n"
     ]
    },
    {
     "name": "stdout",
     "output_type": "stream",
     "text": [
      "2020-12-18 22:18:33,165 loading file C:\\Users\\Lenovo\\.flair\\models\\sentiment-en-mix-distillbert.pt\n"
     ]
    }
   ],
   "source": [
    "# This may take several minutes up to an hour, can be better tuned by avoiding loops inside relative functions\n",
    "Text_blob()\n",
    "NLTK_Lex()\n",
    "FLAIR()"
   ]
  },
  {
   "cell_type": "code",
   "execution_count": 10,
   "metadata": {},
   "outputs": [],
   "source": [
    "allies = pd.read_excel(\"Friends&Allies.xlsx\", index_col=0)\n",
    "data = pd.read_excel(\"NLTK Overall.xlsx\",index_col=0)\n",
    "\n",
    "list_replace = lambda x: 0 if type(x) == str else x\n",
    "data = data.applymap(list_replace)\n",
    "\n",
    "data[\"Sentiment\"] = data.sum(axis=1)\n",
    "names = pd.read_pickle(\"v5_CIA_World_Factbook_missing_imputed.pkl\")[\"txt country name\"]\n",
    "combined = data.join(names, lsuffix='_caller', rsuffix='_other')\n",
    "combined.set_index(\"txt country name_other\", inplace=True)\n",
    "\n",
    "data = pd.DataFrame(data=combined[\"Sentiment\"], index=combined.index)\n",
    "data.rename({\"korea, north\":\"north korea\", \"russia\":\"russian federation\", \"gaza strip\":\"palestine\",\n",
    "                        \"korea, south\":\"the republic of korea (south korea)\",\"congo, democratic republic of the\":\"the democratic republic of the congo\",\n",
    "                        \"congo, republic of the\":\"congo\", \"czechia\":\"czech republic\"}, axis=\"index\", inplace=True)"
   ]
  },
  {
   "cell_type": "code",
   "execution_count": 11,
   "metadata": {},
   "outputs": [],
   "source": [
    "for i in data.index.values:\n",
    "    if i not in allies.index.values:\n",
    "        data.drop(i, axis=\"rows\", inplace=True)\n",
    "data = data.combine_first(allies)\n",
    "data.dropna(axis=\"rows\", how=\"any\", inplace=True)"
   ]
  },
  {
   "cell_type": "code",
   "execution_count": 12,
   "metadata": {},
   "outputs": [
    {
     "name": "stdout",
     "output_type": "stream",
     "text": [
      "(0.5414863937211514, 1.137551011353549e-05) SpearmanrResult(correlation=0.44227687290345863, pvalue=0.0005088022561804944)\n"
     ]
    }
   ],
   "source": [
    "for i in data.index.values:\n",
    "    data.loc[i, \"Label\"] = data.loc[i, \"Label\"].strip()\n",
    "    if data.loc[i, \"Label\"] == \"Ally\":\n",
    "        data.loc[i, \"Label_num\"] = 2\n",
    "        data.loc[i, \"Color\"] = \"b\"\n",
    "    elif data.loc[i, \"Label\"] == \"Friendly\":\n",
    "        data.loc[i, \"Label_num\"] = 1\n",
    "        data.loc[i, \"Color\"] = \"g\"\n",
    "    elif data.loc[i, \"Label\"] == \"Not sure\":\n",
    "        data.loc[i, \"Label_num\"] = 0\n",
    "        data.loc[i, \"Color\"] = \"gray\"\n",
    "    elif data.loc[i, \"Label\"] == \"Unfriendly\":\n",
    "        data.loc[i, \"Label_num\"] = -1\n",
    "        data.loc[i, \"Color\"] = \"y\"\n",
    "    elif data.loc[i, \"Label\"] == \"Enemy\":\n",
    "        data.loc[i, \"Label_num\"] = -2\n",
    "        data.loc[i, \"Color\"] = \"r\"\n",
    "data.to_excel(\"combined.xlsx\")\n",
    "\n",
    "\n",
    "temp_df = data[data[\"Label_num\"] != 0]\n",
    "temp_df = temp_df[temp_df[\"Label_num\"] != -2]\n",
    "x = temp_df[\"Label_num\"].values.tolist()\n",
    "y = temp_df[\"Sentiment\"].values.tolist()\n",
    "print(scipy.stats.pearsonr(x, y), scipy.stats.spearmanr(x, y))\n",
    "\n",
    "x_ = data[\"Label_num\"].values.tolist()\n",
    "y_ = data[\"Sentiment\"].values.tolist()\n",
    "data.to_excel(\"test.xlsx\")"
   ]
  },
  {
   "cell_type": "code",
   "execution_count": 13,
   "metadata": {},
   "outputs": [
    {
     "name": "stdout",
     "output_type": "stream",
     "text": [
      "PEARSON COEFF: 0.4550577406268459 p Value: 1.2739851666968333e-08\n",
      "t = 1207.0\n",
      "p = 6.695547670777861e-39\n",
      "8 8\n",
      "Unfriendly Unfriendly MannwhitneyuResult(statistic=32.0, pvalue=0.4789368101108204)\n",
      "8 8\n",
      "Unfriendly Not sure MannwhitneyuResult(statistic=16.0, pvalue=0.05178093558826699)\n",
      "8 8\n",
      "Unfriendly Friendly MannwhitneyuResult(statistic=6.0, pvalue=0.003702766670250134)\n",
      "7 7\n",
      "Unfriendly Ally MannwhitneyuResult(statistic=3.0, pvalue=0.003645179045767819)\n",
      "4 4\n",
      "Unfriendly Enemy MannwhitneyuResult(statistic=8.0, pvalue=0.44261695723660077)\n",
      "8 8\n",
      "Not sure Unfriendly MannwhitneyuResult(statistic=16.0, pvalue=0.05178093558826699)\n",
      "8 8\n",
      "Not sure Not sure MannwhitneyuResult(statistic=32.0, pvalue=0.4789368101108204)\n",
      "8 8\n",
      "Not sure Friendly MannwhitneyuResult(statistic=5.0, pvalue=0.0026924700000735156)\n",
      "7 7\n",
      "Not sure Ally MannwhitneyuResult(statistic=7.0, pvalue=0.014921032208977135)\n",
      "4 4\n",
      "Not sure Enemy MannwhitneyuResult(statistic=6.0, pvalue=0.33250277105101456)\n",
      "8 8\n",
      "Friendly Unfriendly MannwhitneyuResult(statistic=6.0, pvalue=0.003702766670250134)\n",
      "8 8\n",
      "Friendly Not sure MannwhitneyuResult(statistic=5.0, pvalue=0.0026924700000735156)\n",
      "8 8\n",
      "Friendly Friendly MannwhitneyuResult(statistic=32.0, pvalue=0.4789368101108204)\n",
      "7 7\n",
      "Friendly Ally MannwhitneyuResult(statistic=19.0, pvalue=0.26145161725633537)\n",
      "4 4\n",
      "Friendly Enemy MannwhitneyuResult(statistic=4.0, pvalue=0.156160710838108)\n",
      "7 7\n",
      "Ally Unfriendly MannwhitneyuResult(statistic=3.0, pvalue=0.003645179045767819)\n",
      "7 7\n",
      "Ally Not sure MannwhitneyuResult(statistic=7.0, pvalue=0.014921032208977135)\n",
      "7 7\n",
      "Ally Friendly MannwhitneyuResult(statistic=19.0, pvalue=0.26145161725633537)\n",
      "7 7\n",
      "Ally Ally MannwhitneyuResult(statistic=24.5, pvalue=0.47433189877965914)\n",
      "4 4\n",
      "Ally Enemy MannwhitneyuResult(statistic=2.0, pvalue=0.056175598845231926)\n",
      "4 4\n",
      "Enemy Unfriendly MannwhitneyuResult(statistic=8.0, pvalue=0.44261695723660077)\n",
      "4 4\n",
      "Enemy Not sure MannwhitneyuResult(statistic=6.0, pvalue=0.33250277105101456)\n",
      "4 4\n",
      "Enemy Friendly MannwhitneyuResult(statistic=4.0, pvalue=0.156160710838108)\n",
      "4 4\n",
      "Enemy Ally MannwhitneyuResult(statistic=2.0, pvalue=0.056175598845231926)\n",
      "4 4\n",
      "Enemy Enemy MannwhitneyuResult(statistic=8.0, pvalue=0.4412100570377518)\n"
     ]
    },
    {
     "name": "stderr",
     "output_type": "stream",
     "text": [
      "c:\\users\\lenovo\\appdata\\local\\programs\\python\\python38\\lib\\site-packages\\outdated\\utils.py:14: OutdatedPackageWarning: The package pingouin is out of date. Your version is 0.3.4, the latest is 0.3.8.\n",
      "Set the environment variable OUTDATED_IGNORE=1 to disable these warnings.\n",
      "  return warn(\n"
     ]
    }
   ],
   "source": [
    "from scipy.stats import spearmanr\n",
    "from scipy.stats import shapiro\n",
    "from scipy.stats import kendalltau\n",
    "from scipy.stats import pearsonr\n",
    "from scipy.stats import chi2_contingency\n",
    "from scipy.stats import ttest_rel\n",
    "from scipy.stats import mannwhitneyu\n",
    "from scipy.stats import wilcoxon\n",
    "import pingouin as pg\n",
    "\n",
    "\n",
    "\n",
    "\n",
    "print(\"PEARSON COEFF:\",scipy.stats.pearsonr(x_, y_)[0], \"p Value:\",scipy.stats.pearsonr(x_, y_)[1])\n",
    "t2, p2 = mannwhitneyu(x_, y_)\n",
    "print(\"t = \" + str(t2))\n",
    "print(\"p = \" + str(p2))\n",
    "\n",
    "assistant = dict()\n",
    "for i in data[\"Label\"].unique():\n",
    "    x = data.loc[data['Label'] == i]\n",
    "    x = x[\"Sentiment\"].values.tolist()\n",
    "    for il in data[\"Label\"].unique():\n",
    "        x_ = data.loc[data['Label'] == il, ]\n",
    "        x_ = x_[\"Sentiment\"].values.tolist()\n",
    "        leng = min([len(x),len(x_)])\n",
    "        x_ = x_[:leng]\n",
    "        x = x[:leng]\n",
    "        print(len(x), len(x_))\n",
    "        print(i, il, mannwhitneyu(x, x_))\n",
    "\n",
    "    #print(\"FOR:\", i, \", VARIANCE:\",statistics.variance(x), \"STD DEVIATION:\",statistics.stdev(x),\"SKEWNESS:\",scipy.stats.skew(x, bias=False))\n",
    "    y = i\n",
    "    assistant[y] = x"
   ]
  },
  {
   "cell_type": "code",
   "execution_count": 14,
   "metadata": {},
   "outputs": [
    {
     "data": {
      "text/plain": [
       "<function matplotlib.pyplot.show(*args, **kw)>"
      ]
     },
     "execution_count": 14,
     "metadata": {},
     "output_type": "execute_result"
    },
    {
     "data": {
      "image/png": "[encoded data removed]",
      "text/plain": [
       "<Figure size 432x288 with 1 Axes>"
      ]
     },
     "metadata": {
      "needs_background": "light"
     },
     "output_type": "display_data"
    }
   ],
   "source": [
    "fig, ax = plt.subplots()\n",
    "ax.boxplot(assistant.values())\n",
    "ax.set_xticklabels(assistant.keys())\n",
    "plt.title(\"CIA World Factbook Sentiment and countries' relations with the US\")\n",
    "plt.xlabel(\"Relation with the US\")\n",
    "plt.ylabel(\"Cumulative Sentiment\")\n",
    "text = \"*NLTK Vader Sentiment. YouGov Survey used for country relations. By Panagiotis Podiotis\"\n",
    "plt.gcf().text(0.12, 0.015, text, fontsize=10)\n",
    "#plt.ylim(bottom=0)\n",
    "#plt.xlim(left=0, right=0)\n",
    "plt.show"
   ]
  }
 ],
 "metadata": {
  "kernelspec": {
   "display_name": "Python 3",
   "language": "python",
   "name": "python3"
  },
  "language_info": {
   "codemirror_mode": {
    "name": "ipython",
    "version": 3
   },
   "file_extension": ".py",
   "mimetype": "text/x-python",
   "name": "python",
   "nbconvert_exporter": "python",
   "pygments_lexer": "ipython3",
   "version": "3.8.3"
  }
 },
 "nbformat": 4,
 "nbformat_minor": 4
}
